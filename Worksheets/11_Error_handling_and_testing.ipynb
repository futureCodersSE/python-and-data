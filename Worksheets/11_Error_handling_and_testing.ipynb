{
  "nbformat": 4,
  "nbformat_minor": 0,
  "metadata": {
    "colab": {
      "provenance": [],
      "include_colab_link": true
    },
    "kernelspec": {
      "name": "python3",
      "display_name": "Python 3"
    },
    "language_info": {
      "name": "python"
    }
  },
  "cells": [
    {
      "cell_type": "markdown",
      "metadata": {
        "id": "view-in-github",
        "colab_type": "text"
      },
      "source": [
        "<a href=\"https://colab.research.google.com/github/futureCodersSE/python-and-data/blob/main/Worksheets/11_Error_handling_and_testing.ipynb\" target=\"_parent\"><img src=\"https://colab.research.google.com/assets/colab-badge.svg\" alt=\"Open In Colab\"/></a>"
      ]
    },
    {
      "cell_type": "markdown",
      "metadata": {
        "id": "llhPjzuu7KLX"
      },
      "source": [
        "# Dealing with errors\n",
        "---\n",
        "\n",
        "There are various types of error that a well written function will handle but which can sometimes be forgotten.\n",
        "\n",
        "Errors can be categorised into:\n",
        "*  Syntax errors  \n",
        "errors in the code that stop it from being interpreted and run - these are often picked up by the code editor, or by Python when it tries to translate the code before running it  \n",
        "\n",
        "*  Logic errors  \n",
        "these are hard to pick up and rely on good testing or user feedback.  A logic error will result in 'wrong' data or functionality  \n",
        "\n",
        "*  Runtime errors  \n",
        "these are generally caused by operations that work perfectly well with the 'right' data but fall over if they encounter the 'wrong' data.\n",
        "\n",
        "\n"
      ]
    },
    {
      "cell_type": "markdown",
      "source": [
        "---\n",
        "\n",
        "### Exercise 1  \n",
        "\n",
        "The code below has a `syntax` error.  Correct the error and run the code."
      ],
      "metadata": {
        "id": "YClc6urF6Tav"
      }
    },
    {
      "cell_type": "code",
      "metadata": {
        "id": "fqvRJOFz7HEs"
      },
      "source": [
        "def get_list():\n",
        "  mylist = [\"red\",'yellow','pink',\"green\",'orange',\"purple\".\"blue\"]\n",
        "  return mylist\n",
        "\n",
        "print(get_list())"
      ],
      "execution_count": null,
      "outputs": []
    },
    {
      "cell_type": "markdown",
      "metadata": {
        "id": "G8fVmU5h86Dn"
      },
      "source": [
        "---\n",
        "### Exercise 2\n",
        "\n",
        "\n",
        "The code below has a `logic` error.  The function is being run by a test, which will fail on first run.  Correct the error in the `calculate_average(nums)` function and run the code to get the test to pass."
      ]
    },
    {
      "cell_type": "code",
      "metadata": {
        "id": "irDAREWJ9AdV",
        "colab": {
          "base_uri": "https://localhost:8080/"
        },
        "outputId": "0dec1d00-576a-47d1-f498-39024bd7ac66"
      },
      "source": [
        "def calculate_average(nums):\n",
        "  total = 0\n",
        "  for num in nums:\n",
        "    total += num\n",
        "  return total\n",
        "\n",
        "# Test\n",
        "actual = calculate_average([4,2,6,8,3,1])\n",
        "expected = 4\n",
        "if  actual == expected:\n",
        "  print(\"Test passed\")\n",
        "else:\n",
        "  print(\"Test failed, expected\", expected, \"but got\", actual)\n"
      ],
      "execution_count": null,
      "outputs": [
        {
          "output_type": "stream",
          "name": "stdout",
          "text": [
            "Test failed, expected 4 but got 24\n"
          ]
        }
      ]
    },
    {
      "cell_type": "markdown",
      "metadata": {
        "id": "sBXNkQqJ9bX-"
      },
      "source": [
        "---\n",
        "### Exercise 3\n",
        "\n",
        "\n",
        "The code below does not have any errors and will run perfectly well, until it receives some data that doesn't fit what it is expecting.  Run the code, entering the number 16, it will crash (a runtime error) because the Python `input()` function always returns a string, which can't be divided.  One solution is to convert the input to an integer.  This will deal with the input problem in most cases.  \n",
        "\n",
        "Make a change to the `get_user_input()` function code to convert the input into an `int`code.  Then run the code again, there should be no runtime error this time."
      ]
    },
    {
      "cell_type": "code",
      "metadata": {
        "id": "1A5DkNo59ZZA"
      },
      "source": [
        "def get_half_user_input():\n",
        "  user_input = input(\"Please enter a number \")\n",
        "  half = user_input / 2\n",
        "  return half\n",
        "\n",
        "get_half_user_input()"
      ],
      "execution_count": null,
      "outputs": []
    },
    {
      "cell_type": "markdown",
      "metadata": {
        "id": "1UI44hURAgf2"
      },
      "source": [
        "---\n",
        "## Catching runtime errors\n",
        "\n",
        "\n",
        "The solution you have just implemented will solve the known problem that `input()` always returns a string, BUT, what if the user actually enters something that isn't a number?  Even `int()` won't cope with this.  \n",
        "\n",
        "Run the code below, and enter the word **six** It will crash, but we don't want users to be informed of an input error by the program crashing!\n",
        "\n",
        "This error is not necessarily going to happen (inputs should generally be of the right type) it has to be anticipated as a possibility.  \n",
        "\n",
        "**Common causes of runtime errors** can be from:  \n",
        "*  any form of input not being of the right type, including from the user, a file, an API call, a database read or function parameters\n",
        "*  trying to divide by 0\n",
        "*  trying to do operations on data that is not of the required type  \n",
        "\n",
        "We want to try to **handle** the error and to allow the program to deal with it gracefully, instead of crashing.\n",
        "\n",
        "Most programming languages have instructions for handling runtime errors like this.  In any situation where there is potential for runtime errors, you can use:  \n",
        "\n",
        "```\n",
        "try:\n",
        "  # code to run\n",
        "except:\n",
        "  # what to do if there is an error, to handle the problem gracefully and move on\n",
        "```\n",
        "If a runtime error occurs at any point within the `try` section, processing will switch to the `except` section and run the code there (this might report the problem to the user, then stop so that processing continues from before the try, or it might log the error, inform the user and shut the program down).  What is done in the `except` section depends on the severity of the error and its effect on the further running of the program (ie data might be corrupted at this point and so it is not advisable to continue).  \n",
        "\n",
        "In the example below, a runtime error occurs when it is trying to divide numbers that are not valid, so we will use `try: .. except: ..` in the function to ensure that a valid number is always returned and that an error message to the user is shown if the input was invalid.  For this example, if there is an invalid input we will return 0 (so we are always returning a valid input but it will result in 0 when divided so for the purposes of this example, this will do)\n",
        "\n",
        "Run the code and enter the word \"six\".  We would expect a crash to happen but, instead, we get the message \"Invalid number, please run the function again\"  \n",
        "\n",
        "Run the code again and enter the number 16.  It should work and give the answer 8.0\n",
        "\n",
        "The code has failed gracefully, and the user has been told what has happened."
      ]
    },
    {
      "cell_type": "code",
      "metadata": {
        "id": "2ce-rQZ6gmBM"
      },
      "source": [
        "def get_half_user_input():\n",
        "  try:\n",
        "    user_input = input(\"Please enter a number \")\n",
        "    half = user_input / 2\n",
        "    return half\n",
        "  except:\n",
        "    return \"Invalid number, please run the function again\"\n",
        "\n",
        "get_half_user_input()"
      ],
      "execution_count": null,
      "outputs": []
    },
    {
      "cell_type": "markdown",
      "metadata": {
        "id": "Ol_Z4kRpJEVr"
      },
      "source": [
        "---\n",
        "### Exercise 5 - opening a file\n",
        "\n",
        "\n",
        "Write a function that will return an open file if it is given the file name.  If the file doesn't exist, a message should be shown to the user and the function should return None.  If the file does exist, and is opened correctly, the function should return the file to the caller.  \n",
        "\n",
        "The code has been started for you.  \n",
        "\n",
        "Run the code to test that it works if the file doesn't exist (this assumes that you don't have a file called `error.txt` in the same directory as this notebook).  "
      ]
    },
    {
      "cell_type": "code",
      "source": [
        "import os\n",
        "\n",
        "def get_file(filename):\n",
        "  # add your code here to open the file and return it, or to print an error message and return None\n",
        "  try:\n",
        "    file = open(filename)\n",
        "    return file\n",
        "  except:\n",
        "    print(\"File does not exist\")\n",
        "    return None\n",
        "\n",
        "get_file(\"error.txt\")"
      ],
      "metadata": {
        "id": "a8COYFHnTr_n"
      },
      "execution_count": null,
      "outputs": []
    },
    {
      "cell_type": "markdown",
      "source": [
        "---\n",
        "### Exercise 6\n",
        "\n",
        "This Colab notebook contains a file called **\"anscombe.json\"**.  It is included in all new notebooks and is in the **sample_data** folder in the file storage (click the file icon on the left of the worksheet to see the file storage).  \n",
        "\n",
        "Run the code below. It will run the get_file() function twice, first with the file that we know doesn't exist, then with one that does.\n",
        "\n",
        "The output should look like this:\n",
        "```\n",
        "Test 1 - non-existent file\n",
        "File does not exist\n",
        "\n",
        "Test 2 - valid file\n",
        "<_io.TextIOWrapper name='sample_data/anscombe.json' mode='r' encoding='UTF-8'>\n",
        "```"
      ],
      "metadata": {
        "id": "LZjm-bXET8z7"
      }
    },
    {
      "cell_type": "code",
      "metadata": {
        "id": "F2syhzV7KzB7",
        "colab": {
          "base_uri": "https://localhost:8080/"
        },
        "outputId": "8ae72836-db6d-403c-b65b-df64e36e5867"
      },
      "source": [
        "import os\n",
        "\n",
        "def get_file(filename):\n",
        "  # add your code here to open the file and return it, or to print an error message and return None\n",
        "  try:\n",
        "    file = open(filename)\n",
        "    return file\n",
        "  except:\n",
        "    print(\"File does not exist\")\n",
        "    return None\n",
        "\n",
        "print(\"Test 1 - non-existent file\")\n",
        "get_file(\"error.txt\")\n",
        "\n",
        "print()\n",
        "print(\"Test 2 - valid file\")\n",
        "get_file(\"sample_data/anscombe.json\")"
      ],
      "execution_count": null,
      "outputs": [
        {
          "output_type": "stream",
          "name": "stdout",
          "text": [
            "Test 1 - non-existent file\n",
            "File does not exist\n",
            "\n",
            "Test 2 - valid file\n"
          ]
        },
        {
          "output_type": "execute_result",
          "data": {
            "text/plain": [
              "<_io.TextIOWrapper name='sample_data/anscombe.json' mode='r' encoding='UTF-8'>"
            ]
          },
          "metadata": {},
          "execution_count": 6
        }
      ]
    },
    {
      "cell_type": "markdown",
      "metadata": {
        "id": "OACfOBCiRJkZ"
      },
      "source": [
        "---\n",
        "### Exercise 7 - use try and except\n",
        "\n",
        "\n",
        "Write the code for the function divide_nums(num1, num2) which has been started for you below.  \n",
        "\n",
        "The function will take two parameters (two integers - `num1` and `num2`), and will return the `result` of dividing the first by the second.  If the division fails, maybe because at least one parameter isn't a number, or `num2` is 0, it will return -999999  (not an impossible answer but improbable).\n",
        "\n",
        "Test that this function works by running it with three sets of data.  The expected output will be:  \n",
        "```\n",
        "Test 1 -  2.0\n",
        "Test 2 -  0.5\n",
        "Test 3 -  -999999\n",
        "Test 2 -  -999999\n",
        "```\n",
        "\n"
      ]
    },
    {
      "cell_type": "code",
      "metadata": {
        "id": "HScLyIF4SY6o",
        "colab": {
          "base_uri": "https://localhost:8080/"
        },
        "outputId": "1b5d0a31-030a-4da9-9ccc-b4c0fef4cd9a"
      },
      "source": [
        "def divide_nums(num1, num2):\n",
        "  try:\n",
        "    result = num1 / num2\n",
        "    return result\n",
        "  except:\n",
        "    return -999999\n",
        "\n",
        "# Tests\n",
        "print(\"Test 1 - \", divide_nums(8,4))\n",
        "print(\"Test 2 - \", divide_nums(4,8))\n",
        "print(\"Test 3 - \", divide_nums(\"four\",8))\n",
        "print(\"Test 2 - \", divide_nums(8,0))\n"
      ],
      "execution_count": null,
      "outputs": [
        {
          "output_type": "stream",
          "name": "stdout",
          "text": [
            "Test 1 -  2.0\n",
            "Test 2 -  0.5\n",
            "Test 3 -  -999999\n",
            "Test 2 -  -999999\n"
          ]
        }
      ]
    },
    {
      "cell_type": "markdown",
      "metadata": {
        "id": "ZaluV9ejWUqs"
      },
      "source": [
        "---\n",
        "### Exercise 8 - function with `try..except` and test\n",
        "\n",
        "\n",
        "Write a function called **find_list_average(numlist, listname)** that will accept a list of numbers `(numlist)` and a word representing the name of the list `(listname)`.  The function will calculate the average of `numlist` and will return the string \"The average of the numbers in \" + `listname` + \" is \" + `str(average)` + \".\"\n",
        "\n",
        "Use `try..except` to catch any runtime errors that might occur and return `\"There was a problem\"` if any do.\n",
        "\n",
        "Write a set of tests for this function to test that:  \n",
        "*  a valid set of numbers, with a valid name works\n",
        "*  it catches the error if the parameters are round the wrong way `(listname, numlist)` rather than `(numlist, listname)`\n",
        "*  it catches the error is the list is empty (which might result in dividing by 0)\n",
        "*  it catches the error if the numlist contains null values (None)\n",
        "*  it shows the result `The average of the numbers in unnamed list is 4.5.` if the listname is an empty string.  Note:  this test may well fail unless you had code in your function to deal with the string being empty.  This is a logic error - change the code so that if the listname is \"\" it will be set to \"unnamed list\".  Then run the tests again, they should all pass."
      ]
    },
    {
      "cell_type": "markdown",
      "metadata": {
        "id": "PFbTeF6ZrHoP"
      },
      "source": [
        "---\n",
        "### Exercise 9 - further reference\n",
        "\n",
        "You might want to look at this tutorial for more on [exception handling](https://www.python-course.eu/python3_exception_handling.php)\n"
      ]
    },
    {
      "cell_type": "markdown",
      "metadata": {
        "id": "yQyytEbnZ1lw"
      },
      "source": [
        "----\n",
        "# Takeaways\n",
        "\n",
        "*  syntax errors are errors in the use of the language and are picked up in the code cell (red underlining tends to indicate a syntax error)\n",
        "*  logic errors cause the output of the code to be incorrect and are identified through testing\n",
        "*  runtime errors cause the code to crash unless they are caught using try..except\n",
        "*  try - run the code in the hope that nothing will crash\n",
        "*  except - if the code does crash, deal with it by generating an error message or doing something else\n",
        "*  we can test the output of functions by running them over and over again with different data, if tests fail then we know we need to look for a logic error."
      ]
    },
    {
      "cell_type": "markdown",
      "metadata": {
        "id": "Zgexd27sZ1ly"
      },
      "source": [
        "## Your thoughts on what you have learnt\n",
        "Please add some comments in the box below to reflect on what you have learnt through completing this worksheet, and any problems you encountered while doing so."
      ]
    },
    {
      "cell_type": "markdown",
      "metadata": {
        "id": "aDYmIIcEbT7x"
      },
      "source": []
    }
  ]
}